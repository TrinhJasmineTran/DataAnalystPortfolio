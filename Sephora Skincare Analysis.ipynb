{
    "cells": [
        {
            "cell_type": "markdown",
            "metadata": {},
            "source": "\n"
        },
        {
            "cell_type": "code",
            "execution_count": null,
            "metadata": {},
            "outputs": [],
            "source": [
                "library(readr)\n",
                "library(knitr)\n",
                "library(tidyverse)\n",
                "library(dplyr)\n",
                "library(ggplot2)\n",
                "library(shiny)\n",
                "library(flexdashboard)\n",
                "library(lubridate)\n",
                "library(tidytext)\n",
                "library(wordcloud)\n",
                "library(treemapify)\n",
                "\n",
                "Big_data <- read_csv(\"~/Mscs 264 F22/Project/Tran_Thombare/Big_data.csv\")\n",
                "\n",
                "brand_data <- read_csv(\"~/Mscs 264 F22/Project/Tran_Thombare/brand_data.csv\")\n",
                "\n",
                "Cruelty_status_data <- read_csv(\"~/Mscs 264 F22/Project/Tran_Thombare/Cruelty_status_data.csv\")\n",
                "\n",
                "cruelty_free_data <- read_csv(\"~/Mscs 264 F22/Project/Tran_Thombare/cruelty_free_data.csv\")\n",
                "\n",
                "non_cruelty_free_data <- read_csv(\"~/Mscs 264 F22/Project/Tran_Thombare/non_cruelty_free_data.csv\")\n"
            ]
        },
        {
            "cell_type": "markdown",
            "metadata": {},
            "source": [
                "About\n",
                "==========================\n",
                "\n",
                "#### Authors\n",
                "\n",
                "*Bhagya Thombare & Jasmine Tran*\n",
                "\n",
                "\n",
                "#### Background Information\n",
                "\n",
                "\n",
                "We are looking at skincare products, particularly at Sephora. Our goal of this project is to evaluate the skincare products from cruelty-free and on-cruelty-free brands at Sephora in terms of *price*, *ingredients*, *skin types*, and *popularity*. Many times consumers have to think about their budget, quality of product and its effectiveness in order to choose appropriate product for themselves. This platform will give the consumers ability to navigate and determine what products might work best for them depending on ingredient choices, skin types and price ranges. \n",
                "\n",
                "\n",
                "Data source:  [Kaggle - Cosmetics Dataset](https://www.kaggle.com/datasets/kingabzpro/cosmetics-datasets), [Kaggle - Cruelty-Free Brands](https://www.kaggle.com/datasets/mhapich/crueltyfree-brands)\n",
                "\n",
                "\n",
                "\n",
                "Column {data-width = 400}\n",
                "-------------------------\n"
            ]
        },
        {
            "cell_type": "code",
            "execution_count": null,
            "metadata": {},
            "outputs": [],
            "source": [
                "renderImage({\n",
                "    # Return a list\n",
                "    list(src = \"front_picture.jpg\", width = 450, height = 525)\n",
                "  })\n"
            ]
        },
        {
            "cell_type": "markdown",
            "metadata": {},
            "source": [
                "Column \n",
                "-------------------------\n"
            ]
        },
        {
            "cell_type": "code",
            "execution_count": null,
            "metadata": {},
            "outputs": [],
            "source": [
                "remove_reg <- \"&amp;|&lt;|&gt;\"\n",
                "\n",
                "token_Cruelty_data<- Cruelty_status_data %>% \n",
                "  mutate(text = str_remove_all(Name, remove_reg)) %>%\n",
                "  unnest_tokens(word, Name, token = \"words\") %>%\n",
                "  filter(!word %in% stop_words$word,                          \n",
                "         !word %in% str_remove_all(stop_words$word, \"'\"),\n",
                "         str_detect(word, \"[a-z]\"))\n",
                "  \n",
                "token_Cruelty_data %>%\n",
                "anti_join(stop_words) %>%\n",
                "  count(word) %>%\n",
                "  with(wordcloud(words = word, freq = n, \n",
                "          max.words=150, random.order=FALSE, rot.per=0.35, \n",
                "          colors=brewer.pal(8, \"Dark2\"), scale = c(5, 0.8)))\n"
            ]
        },
        {
            "cell_type": "markdown",
            "metadata": {},
            "source": [
                "Price  \n",
                "==========================\n",
                "\n",
                "Inputs {.sidebar}\n",
                "-------------------------\n"
            ]
        },
        {
            "cell_type": "code",
            "execution_count": null,
            "metadata": {},
            "outputs": [],
            "source": [
                "inputPanel(\n",
                "  selectInput(\"n_breaks\", label = \"Number of bins:\",\n",
                "              choices = c(10, 20, 35, 50), selected = 20),\n",
                "  \n",
                "   inputPanel(selectInput(\"bl\", label = \"Product Labels\",\n",
                "              choices = c(\"Treatment\" = \"Treatment\", \"Moisturizer\" = \"Moisturizer\", \"Eye Cream\" = \"Eye cream\", \"Cleanser\" = \"Cleanser\", \"Sun Protection\" = \"Sun protect\", \"Face Mask\" = \"Face Mask\"))),\n",
                "\n",
                "\n",
                "  sliderInput(\"bw_adjust\", label = \"Bandwidth adjustment:\",\n",
                "              min = 0.2, max = 2, value = 1, step = 0.2))\n",
                "\n",
                "\n",
                "inputPanel(selectInput(\"bc\", label = \"Brand Category\",\n",
                "              choices = c(\"Cruelty free\" = \"cruelty-free\", \"Non cruelty free\" = \"non-cruelty-free\")))\n",
                "\n",
                "\n",
                "p(\"These figures explore price of skincare products by label using density plot and boxplot. We can input the product labels and brand category to find how price varies across different labels with treatment being the most expensive one. Price of face mask, sun protection, and cleanser are mostly spread out under $100. For moisturizer and eye cream the price starts as low as $20 and goes up to $300.\")\n"
            ]
        },
        {
            "cell_type": "markdown",
            "metadata": {},
            "source": [
                "column {data-width = 400}\n",
                "-------------------------\n"
            ]
        },
        {
            "cell_type": "code",
            "execution_count": null,
            "metadata": {},
            "outputs": [],
            "source": [
                "renderPlot({\n",
                "  if(input$bl == \"Treatment\")\n",
                "Cruelty_status_data %>%\n",
                "  filter(Label == \"Treatment\") %>%\n",
                "  ggplot(mapping = aes(x = Price)) +\n",
                "     geom_histogram (aes(y=..density..), fill = \"pink2\", color = \"white\", bins = input$n_breaks) +\n",
                "     geom_density(aes(y=..density..),  adjust = input$bw_adjust, color = \"mediumorchid4\") +\n",
                "   ylab(\"Density\") + xlab(\"Price of Product\") + ggtitle(\"Histogram of Price Frequency for Products\") +\n",
                "   theme_bw() + theme(plot.title=element_text(size=15)) +\n",
                "    theme(text = element_text(size=13)) \n",
                "  \n",
                "  \n",
                "else\n",
                "  Cruelty_status_data %>%\n",
                "    filter(Label %in% c(input$bl)) %>%\n",
                "     ggplot(mapping = aes(x = Price)) +\n",
                "     geom_histogram (aes(y=..density..), fill = \"pink2\", color = \"white\", bins = input$n_breaks) +\n",
                "    geom_density(aes(y=..density..),  adjust = input$bw_adjust, color = \"mediumorchid4\" ) +\n",
                "    ylab(\"Density\") + xlab(\"Price of Product\") + ggtitle(\"Histogram of Price Frequency for Products\") +\n",
                "   theme_bw() + theme(plot.title=element_text(size=15)) +\n",
                "     theme(text = element_text(size=13)) \n",
                "  \n",
                "})\n"
            ]
        },
        {
            "cell_type": "markdown",
            "metadata": {},
            "source": [
                "\n",
                "\n"
            ]
        },
        {
            "cell_type": "code",
            "execution_count": null,
            "metadata": {},
            "outputs": [],
            "source": [
                "renderPlot({\n",
                "if(input$bc == \"cruelty-free\")\n",
                "   cruelty_free_data %>%\n",
                "    mutate(Label = fct_reorder(Label, Price)) %>%\n",
                "  ggplot(mapping = aes(x = Price)) +\n",
                "    geom_boxplot(aes(y = Label, fill = Label), show.legend = FALSE) +\n",
                "    labs(x = \"Price of Products (USD)\",\n",
                "y = \"Type of Products\",\n",
                "title = \"Cruelty-free Products Price Range\") +\n",
                "  theme(plot.title = element_text(hjust = 0.5)) + \n",
                "    scale_fill_brewer(palette = \"Pastel1\") +\n",
                "    theme(text = element_text(size=13)) + \n",
                "    theme(panel.grid.minor.x = element_blank())\n",
                "\n",
                "else\n",
                "   non_cruelty_free_data %>%\n",
                "    mutate(Label = fct_reorder(Label, Price)) %>%\n",
                "  ggplot(mapping = aes(x = Price)) +\n",
                "    geom_boxplot(aes(y = Label, fill = Label), show.legend = FALSE) +\n",
                "    labs(x = \"Price of Products (USD)\",\n",
                "y = \"Type of Products\",\n",
                "title = \"Non Cruelty-free Products Price Range\") +\n",
                "  theme(plot.title = element_text(hjust = 0.5)) + \n",
                "    scale_fill_brewer(palette = \"Pastel1\") +\n",
                "    theme(text = element_text(size=13)) + \n",
                "    theme(panel.grid.minor.x = element_blank())\n",
                "})\n"
            ]
        },
        {
            "cell_type": "markdown",
            "metadata": {},
            "source": [
                "Ingredients \n",
                "==========================\n",
                "\n",
                "column {data-width = 400}\n",
                "-------------------------\n"
            ]
        },
        {
            "cell_type": "code",
            "execution_count": null,
            "metadata": {},
            "outputs": [],
            "source": [
                "strong(\"Ingredients Takeaways:\")\n",
                "p(\"Here we can see top 10 most commonly-used ingredients in the skincare products. Water is primarily used as a solvent in skincare products, dissolving other ingredients that gives the product texture. Glycerin serves as a humectant that moisturizes and softens the skin by drawing water from the atmosphere for hydration.\")\n",
                "p(\"In the treemap we can se there are few different ingredients that are commanly used by non-cruelty-free brands. One of them is Dimethicone  \")\n",
                "p()\n"
            ]
        },
        {
            "cell_type": "markdown",
            "metadata": {},
            "source": "\n"
        },
        {
            "cell_type": "code",
            "execution_count": null,
            "metadata": {},
            "outputs": [],
            "source": [
                "Ingredients <- Cruelty_status_data %>%\n",
                "  mutate(Ingredients = strsplit(as.character(Ingredients), \", \")) %>% \n",
                "    unnest(Ingredients)\n",
                "\n",
                "Ingredients %>%\n",
                "  count(Ingredients) %>%\n",
                "  slice_max(n, n = 10) %>%\n",
                "  mutate(Ingredients = fct_reorder(Ingredients, n)) %>%\n",
                "ggplot(mapping = aes(x = n, y = Ingredients, fill = Ingredients)) +\n",
                "geom_bar(stat = \"identity\", show.legend = FALSE) +\n",
                "   labs(x = \"Number of products with the Ingredient\",\n",
                "y = \"Ingredient Name\",\n",
                "title = \"Top 10 Ingredients in Skincare Products\") +\n",
                "  theme(plot.title = element_text(hjust = 0.5)) + \n",
                "  theme(text = element_text(size=12)) + \n",
                "  scale_fill_brewer(palette = \"Set3\")+\n",
                "  theme(panel.grid.minor.x = element_blank())\n"
            ]
        },
        {
            "cell_type": "markdown",
            "metadata": {},
            "source": [
                "column {data-width = 400}\n",
                "-------------------------\n"
            ]
        },
        {
            "cell_type": "code",
            "execution_count": null,
            "metadata": {},
            "outputs": [],
            "source": [
                "Ingredients %>%\n",
                "  filter(brand_category == \"cruelty-free\") %>%\n",
                "  count(Ingredients) %>%\n",
                "  slice_max(n, n = 10) %>%\n",
                "ggplot(mapping = aes(area = n, fill = Ingredients, label = paste(n, Ingredients))) +\n",
                "geom_treemap() +\n",
                "    geom_treemap_text() +\n",
                "    scale_fill_brewer(palette = \"Pastel1\") +\n",
                "  labs(title = \"Most Used Ingredients in Cruelty-free Brands\") +\n",
                "  theme(plot.title = element_text(hjust = 0.5)) + \n",
                "  theme(text = element_text(size=10)) + \n",
                "  scale_fill_brewer(palette = \"Set3\")+\n",
                "  theme(panel.grid.minor.x = element_blank())\n"
            ]
        },
        {
            "cell_type": "markdown",
            "metadata": {},
            "source": [
                "\n",
                "\n"
            ]
        },
        {
            "cell_type": "code",
            "execution_count": null,
            "metadata": {},
            "outputs": [],
            "source": [
                "Ingredients %>%\n",
                "  filter(brand_category == \"non-cruelty-free\") %>%\n",
                "  count(Ingredients) %>%\n",
                "  slice_max(n, n = 10) %>%\n",
                "ggplot(mapping = aes(area = n, fill = Ingredients, label = paste(n, Ingredients))) +\n",
                "geom_treemap() +\n",
                "    geom_treemap_text() +\n",
                "    scale_fill_brewer(palette = \"Pastel1\") +\n",
                "  labs(title = \"Most Used Ingredients in Non-cruelty-free Brands\") +\n",
                "  theme(plot.title = element_text(hjust = 0.5)) + \n",
                "  theme(text = element_text(size=10)) + \n",
                "  scale_fill_brewer(palette = \"Set3\")+\n",
                "  theme(panel.grid.minor.x = element_blank())\n"
            ]
        },
        {
            "cell_type": "markdown",
            "metadata": {},
            "source": [
                "Skin Types\n",
                "==========================\n",
                "\n",
                "column\n",
                "-------------------------\n"
            ]
        },
        {
            "cell_type": "code",
            "execution_count": null,
            "metadata": {},
            "outputs": [],
            "source": [
                "Cruelty_status_data %>%\n",
                "    filter(Normal == 1) %>%\n",
                "    group_by(brand_category) %>%\n",
                "    summarise(n = n()) %>%\n",
                "    mutate(prop_brand_type = n/sum(n),\n",
                "           labels = scales::percent(prop_brand_type)) %>%\n",
                "  ggplot(mapping = aes(x = \"\", y = prop_brand_type, fill = brand_category)) +\n",
                "    geom_col(color = \"white\") +\n",
                "  geom_label(aes(label = labels),\n",
                "            position = position_stack(vjust = 0.2),\n",
                "            show.legend = FALSE) +\n",
                "  guides(fill = guide_legend(title = \"Brand Categories\")) +\n",
                "  scale_fill_brewer(palette = \"Pastel1\") +\n",
                "  coord_polar(theta = \"y\") + \n",
                "  theme_void() +\n",
                "    labs( title = \"Product Percentage for Normal Skin\")\n"
            ]
        },
        {
            "cell_type": "markdown",
            "metadata": {},
            "source": "\n"
        },
        {
            "cell_type": "code",
            "execution_count": null,
            "metadata": {},
            "outputs": [],
            "source": [
                " Cruelty_status_data %>%\n",
                "    filter(Combination == 1) %>%\n",
                "    group_by(brand_category) %>%\n",
                "    summarise(n = n()) %>%\n",
                "    mutate(prop_brand_type = n/sum(n),\n",
                "           labels = scales::percent(prop_brand_type)) %>%\n",
                "  ggplot(mapping = aes(x = \"\", y = prop_brand_type, fill = brand_category)) +\n",
                "    geom_col(color = \"white\") +\n",
                "  geom_label(aes(label = labels),\n",
                "            position = position_stack(vjust = 0.2),\n",
                "            show.legend = FALSE) +\n",
                "  guides(fill = guide_legend(title = \"Brand Categories\")) +\n",
                "  scale_fill_brewer(palette = \"Pastel1\") +\n",
                "  coord_polar(theta = \"y\") + \n",
                "  theme_void() +\n",
                "    labs( title = \"Product Percentage for Combination (Oily & Dry) Skin\")\n"
            ]
        },
        {
            "cell_type": "markdown",
            "metadata": {},
            "source": [
                "column\n",
                "-------------------------\n"
            ]
        },
        {
            "cell_type": "code",
            "execution_count": null,
            "metadata": {},
            "outputs": [],
            "source": [
                "Cruelty_status_data %>%\n",
                "    filter(Sensitive == 1) %>%\n",
                "    group_by(brand_category) %>%\n",
                "    summarise(n = n()) %>%\n",
                "    mutate(prop_brand_type = n/sum(n),\n",
                "           labels = scales::percent(prop_brand_type)) %>%\n",
                "  ggplot(mapping = aes(x = \"\", y = prop_brand_type, fill = brand_category)) +\n",
                "    geom_col(color = \"white\") +\n",
                "  geom_label(aes(label = labels),\n",
                "            position = position_stack(vjust = 0.5),\n",
                "            show.legend = FALSE) +\n",
                "  guides(fill = guide_legend(title = \"Brand Categories\")) +\n",
                "  scale_fill_brewer(palette = \"Pastel1\") +\n",
                "  coord_polar(theta = \"y\") + \n",
                "  theme_void() +\n",
                "    labs( title = \"Product Percentage for Sensitive Skin\")\n"
            ]
        },
        {
            "cell_type": "markdown",
            "metadata": {},
            "source": "\n"
        },
        {
            "cell_type": "code",
            "execution_count": null,
            "metadata": {},
            "outputs": [],
            "source": [
                "strong(\"Skintype Takeaways:\")\n",
                "p(\"The pie chart poin our the fact that sephora has very limited product assortment towards cruelty-free brands. Coustmers with cruelty-free product preference have limited choice when it comes to buying skincare regardless of there skin type.\")\n"
            ]
        },
        {
            "cell_type": "markdown",
            "metadata": {},
            "source": [
                "Product Popularity \n",
                "==========================\n",
                "\n",
                "Row\n",
                "-------------------------\n",
                "\n",
                "*Average Rank for Sun Protect*\n"
            ]
        },
        {
            "cell_type": "code",
            "execution_count": null,
            "metadata": {},
            "outputs": [],
            "source": [
                "Rating_for_sp <- function() {\n",
                "Cruelty_status_data %>%\n",
                "  group_by(Label) %>%\n",
                "  summarise(average_Rank = mean(Rank)) %>%\n",
                "  filter(Label == \"Sun protect\")\n",
                "  \n",
                "  { Sunscreen = c(4.05)\n",
                "    \n",
                "  }\n",
                "\n",
                "  \n",
                "}\n",
                "\n",
                "\n",
                "sun_protect_rank <- Rating_for_sp()\n",
                "gauge(sun_protect_rank, min = 0, max = 5, gaugeSectors(\n",
                "  success = c(3.5, 5), warning = c(1,2.5), danger = c(0, 1), colors = \"#195670\"\n",
                ")) \n"
            ]
        },
        {
            "cell_type": "markdown",
            "metadata": {},
            "source": [
                "\n",
                "*Average Rank for Treatments*\n"
            ]
        },
        {
            "cell_type": "code",
            "execution_count": null,
            "metadata": {},
            "outputs": [],
            "source": [
                "Rating_for_treatment <- function() {\n",
                "  treatment <- Cruelty_status_data %>%\n",
                "  group_by(Label, ) %>%\n",
                "  summarise(average_Rank = mean(Rank)) %>%\n",
                "  filter(Label == \"Treatment\")\n",
                "  \n",
                "  { Treatment = 4.22\n",
                "    \n",
                "  }\n",
                "\n",
                "  \n",
                "}\n",
                "\n",
                "Treatment_rank <- Rating_for_treatment()\n",
                "gauge(Treatment_rank, min = 0, max = 5, gaugeSectors(\n",
                "  success = c(3.5, 5), warning = c(1,2.5), danger = c(0, 1), colors = \"#FF7F50\"\n",
                "))\n"
            ]
        },
        {
            "cell_type": "markdown",
            "metadata": {},
            "source": [
                "\n",
                "*Average Rank  for Moisturizer*\n"
            ]
        },
        {
            "cell_type": "code",
            "execution_count": null,
            "metadata": {},
            "outputs": [],
            "source": [
                "Rank_Moisturizer <- function() {\n",
                "Cruelty_status_data %>%\n",
                "  group_by(Label, ) %>%\n",
                "  summarise(average_Rank = mean(Rank)) %>%\n",
                "  filter(Label == \"Moisturizer\")\n",
                "  \n",
                "  { Moisture = 4.24\n",
                "    \n",
                "  }\n",
                "\n",
                "  \n",
                "}\n",
                "\n",
                "Moisturizer_rank <- Rank_Moisturizer()\n",
                "gauge(Moisturizer_rank, min = 0, max = 5, gaugeSectors(\n",
                "  success = c(3.5, 5), warning = c(1,2.5), danger = c(0, 1), colors = \"#FFBF00\"\n",
                "))\n"
            ]
        },
        {
            "cell_type": "markdown",
            "metadata": {},
            "source": [
                "Row\n",
                "-------------------------\n",
                "\n",
                "*Average Rank for Face Mask*\n"
            ]
        },
        {
            "cell_type": "code",
            "execution_count": null,
            "metadata": {},
            "outputs": [],
            "source": [
                "Rank_FM <- function() {\n",
                "Cruelty_status_data %>%\n",
                "  group_by(Label, ) %>%\n",
                "  summarise(average_Rank = mean(Rank)) %>%\n",
                "  filter(Label == \"Face Mask\")\n",
                "  \n",
                "  { FACE_MASK = 4.17\n",
                "    \n",
                "  }\n",
                "\n",
                "  \n",
                "}\n",
                "\n",
                "Face_mask_rank <- Rank_FM()\n",
                "gauge(Face_mask_rank, min = 0, max = 5, gaugeSectors(\n",
                "  success = c(3.5, 5), warning = c(1,2.5), danger = c(0, 1), colors = \"#CCCCFF\"\n",
                "))\n"
            ]
        },
        {
            "cell_type": "markdown",
            "metadata": {},
            "source": [
                "\n",
                "*Average Rank for Eye Cream*\n"
            ]
        },
        {
            "cell_type": "code",
            "execution_count": null,
            "metadata": {},
            "outputs": [],
            "source": [
                "Rank_Eyecream <- function() {\n",
                "  Cruelty_status_data %>%\n",
                "  group_by(Label, ) %>%\n",
                "  summarise(average_Rank = mean(Rank)) %>%\n",
                "  filter(Label == \"Eye cream\")\n",
                "  \n",
                "  { EC = 3.81\n",
                "    \n",
                "  }\n",
                "\n",
                "  \n",
                "}\n",
                "\n",
                "Eye_cream_rank <- Rank_Eyecream()\n",
                "gauge(Eye_cream_rank, min = 0, max = 5, gaugeSectors(\n",
                "  success = c(3.5, 5), warning = c(1,2.5), danger = c(0, 1), colors = \"#DE3163\"\n",
                "))\n"
            ]
        },
        {
            "cell_type": "markdown",
            "metadata": {},
            "source": [
                "\n",
                "*Average Rank for Cleanser*\n"
            ]
        },
        {
            "cell_type": "code",
            "execution_count": null,
            "metadata": {},
            "outputs": [],
            "source": [
                "Rank_cleanser <- function() {\n",
                "Cruelty_status_data %>%\n",
                "  group_by(Brand) %>%\n",
                "  filter(Label == \"Cleanser\") %>%\n",
                "    summarise(average_Rank = mean(Rank))\n",
                "  \n",
                "  { cleanser = 4.31\n",
                "  \n",
                "}\n",
                "  \n",
                "}\n",
                "\n",
                "cleanser_rank <- Rank_cleanser()\n",
                "gauge(cleanser_rank, min = 0, max = 5, gaugeSectors(\n",
                "  success = c(3.5, 5), warning = c(1,2.5), danger = c(0, 1), colors = \"#9FE2BF\"\n",
                "))\n"
            ]
        },
        {
            "cell_type": "markdown",
            "metadata": {},
            "source": [
                "High-End Brands\n",
                "==========================\n",
                "\n",
                "Inputs {.sidebar}\n",
                "-------------------------\n"
            ]
        },
        {
            "cell_type": "code",
            "execution_count": null,
            "metadata": {},
            "outputs": [],
            "source": [
                "inputPanel(selectInput(\"lb\", label = \"Product Labels\",\n",
                "              choices = c(\"Treatment\" = \"Treatment\", \"Moisturizer\" = \"Moisturizer\", \"Eye Cream\" = \"Eye cream\", \"Cleanser\" = \"Cleanser\", \"Sun Protection\" = \"Sun protect\", \"Face Mask\" = \"Face Mask\")))\n"
            ]
        },
        {
            "cell_type": "markdown",
            "metadata": {},
            "source": [
                "column \n",
                "-------------------------\n"
            ]
        },
        {
            "cell_type": "code",
            "execution_count": null,
            "metadata": {},
            "outputs": [],
            "source": [
                "renderPlot({\n",
                "  if(input$lb == \"Treatment\")\n",
                "Cruelty_status_data %>%\n",
                "  filter(Label == \"Treatment\") %>%\n",
                "  group_by(Brand) %>%\n",
                "  summarise(avg_price = mean(Price), \n",
                "            avg_rank = mean(Rank)) %>%\n",
                "  arrange(desc(avg_price)) %>%\n",
                "  slice_head(n = 10) %>%\n",
                "  ggplot(mapping = aes(x = avg_price, y = avg_rank), show.legend = FALSE) +\n",
                " geom_point() +\n",
                "   geom_label(aes(label = Brand, fill = Brand), color = \"white\", fontface = \"bold\") +\n",
                "   labs(x = \"Average Price\",\n",
                "y = \"Average Rank\",\n",
                "title = \"Top 10 Brands Treatment Average Price vs Average Rank\") +\n",
                "  theme(plot.title = element_text(hjust = 0.5)) + \n",
                "  theme(text = element_text(size=18)) + theme(panel.grid.minor.x = element_blank())\n",
                "  \n",
                "else\n",
                "  Cruelty_status_data %>%\n",
                "    filter(Label %in% c(input$lb)) %>%\n",
                "    group_by(Brand) %>%\n",
                "  summarise(avg_price = mean(Price), \n",
                "            avg_rank = mean(Rank)) %>%\n",
                "  arrange(desc(avg_price)) %>%\n",
                "  slice_head(n = 10) %>%\n",
                "  ggplot(mapping = aes(x = avg_price, y = avg_rank), show.legend = FALSE) +\n",
                "  geom_point() +\n",
                "    geom_label(aes(label = Brand, fill = Brand), color = \"white\", fontface = \"bold\") +\n",
                "   labs(x = \"Average Price\",\n",
                "y = \"Average Rank\",\n",
                "title = \"Top 10 Brands Treatment Average Price vs Average Rank\") +\n",
                "  theme(plot.title = element_text(hjust = 0.5)) + \n",
                "    theme(text = element_text(size=18)) + theme(panel.grid.minor.x = element_blank())\n",
                "})\n"
            ]
        },
        {
            "cell_type": "markdown",
            "metadata": {},
            "source": [
                "\n",
                "\n"
            ]
        },
        {
            "cell_type": "code",
            "execution_count": null,
            "metadata": {},
            "outputs": [],
            "source": [
                "strong(\"High-end Brands Takeaways:\")\n",
                "p(\"From the above plot we can see that price of the product does not necessary reflect in its rank. There are few luxurious brands with low ranking, and brands that are relatively affordable have high ranking. This indicate that product ranking is not based on the price, but its effectivness and if it is suitable for individual's skin.\")\n"
            ]
        }
    ],
    "metadata": {
        "anaconda-cloud": "",
        "kernelspec": {
            "display_name": "R",
            "langauge": "R",
            "name": "ir"
        },
        "language_info": {
            "codemirror_mode": "r",
            "file_extension": ".r",
            "mimetype": "text/x-r-source",
            "name": "R",
            "pygments_lexer": "r",
            "version": "3.4.1"
        }
    },
    "nbformat": 4,
    "nbformat_minor": 1
}
